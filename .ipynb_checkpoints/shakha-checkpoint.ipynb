import pandas as pd
import re

# Path to the uploaded WhatsApp chat file
file_path = 'WhatsApp Chat with 🚩गणेशनगर सायम शाखा🚩.txt'

# Function to parse the chat file and extract specific numbers from messages containing "Aaj ki"
def parse_and_extract_numbers(file_path):
    with open(file_path, 'r', encoding='utf-8') as file:
        lines = file.readlines()

    date_pattern = re.compile(r'^\d{2}/\d{2}/\d{4}, \d{2}:\d{2} - ')
    data = []
    number_data = []

    for line in lines:
        if date_pattern.match(line):
            date_str, message = line.split(' - ', 1)
            date = pd.to_datetime(date_str, format='%d/%m/%Y, %H:%M')
            if ': ' in message:
                author, text = message.split(': ', 1)
            else:
                author, text = 'System', message
            data.append((date, author, text))

            # Check if "Aaj ki" is in the text and extract relevant numbers
            if 'Aaj ki' in text:
                shishu = re.search(r'Shishu\s+(\d+)', text)
                bal = re.search(r'Bal\s+(\d+)', text)
                taryun = re.search(r'Taryn\s+(\d+)', text)
                total = re.search(r'Total\s+(\d+)', text)
                
                shishu_count = int(shishu.group(1)) if shishu else None
                bal_count = int(bal.group(1)) if bal else None
                taryun_count = int(taryun.group(1)) if taryun else None
                total_count = int(total.group(1)) if total else None
                
                number_data.append((date, author, text, shishu_count, bal_count, taryun_count, total_count))

    df = pd.DataFrame(data, columns=['Date', 'Author', 'Message'])
    number_df = pd.DataFrame(number_data, columns=['Date', 'Author', 'Message', 'Shishu', 'Bal', 'Taryun', 'Total'])
    return df, number_df

# Parse the chat and extract relevant data
df, number_df = parse_and_extract_numbers(file_path)

# Display the DataFrame with extracted numbers
number_df.head()
