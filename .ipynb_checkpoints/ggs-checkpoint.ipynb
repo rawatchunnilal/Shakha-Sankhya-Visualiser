{
 "cells": [
  {
   "cell_type": "code",
   "execution_count": 40,
   "id": "2aa0c563-af9e-4fbd-869f-863985c7516c",
   "metadata": {},
   "outputs": [],
   "source": [
    "import re\n",
    "from datetime import datetime\n",
    "import pandas as pd\n",
    "import matplotlib.pyplot as plt"
   ]
  },
  {
   "cell_type": "code",
   "execution_count": 41,
   "id": "df8ef650-af90-4b58-ab55-20562c08dfaa",
   "metadata": {},
   "outputs": [],
   "source": [
    "# Path to the uploaded WhatsApp chat file\n",
    "file_path = 'WhatsApp Chat with ⛳गुरु गोविंद सिंह शाखा⛳.txt'\n",
    "\n",
    "def parse_messages(file_path):\n",
    "    with open(file_path, 'r', encoding='utf-8') as file:\n",
    "        content = file.read()\n",
    "\n",
    "    # Split the content into messages using the date and time as separator\n",
    "    messages = re.split(r'\\n(?=\\d{1,2}/\\d{1,2}/\\d{2,4},\\s\\d{1,2}:\\d{2}\\s[AP]M\\s-\\s)', content)\n",
    "\n",
    "    # Remove any leading/trailing whitespace from messages\n",
    "    messages = [msg.strip() for msg in messages if msg.strip()]\n",
    "\n",
    "    return messages\n",
    "\n"
   ]
  },
  {
   "cell_type": "code",
   "execution_count": 42,
   "id": "2dee1cf9-98a4-4240-a9a4-825aaeda3ba6",
   "metadata": {},
   "outputs": [],
   "source": [
    "def format_message(message):\n",
    "    # Extract the date, time, and content from the message\n",
    "    match = re.match(r'(\\d{1,2}/\\d{1,2}/\\d{2,4},\\s\\d{1,2}:\\d{2}\\s*[AP]M)\\s-\\s(.*)', message, re.DOTALL)\n",
    "    if match:\n",
    "        datetime_str, content = match.groups()\n",
    "        # Replace non-ASCII characters with a standard space\n",
    "        datetime_str = re.sub(r'[^\\x00-\\x7F]+', ' ', datetime_str)\n",
    "        # Try parsing with both 2-digit and 4-digit year formats\n",
    "        try:\n",
    "            dt = datetime.strptime(datetime_str, '%m/%d/%y, %I:%M %p')\n",
    "        except ValueError:\n",
    "            try:\n",
    "                dt = datetime.strptime(datetime_str, '%m/%d/%Y, %I:%M %p')\n",
    "            except ValueError:\n",
    "                return {'date_time': None, 'author': None, 'message': f\"Unable to parse date: {datetime_str}\\n{content}\"}\n",
    "        formatted_dt = dt.strftime('%Y-%m-%d %H:%M')\n",
    "        # Check if it's a system message or a user message\n",
    "        if ': ' in content:\n",
    "            author, text = content.split(': ', 1)\n",
    "            return {'date_time': formatted_dt, 'author': author, 'message': text}\n",
    "        else:\n",
    "            return {'date_time': formatted_dt, 'author': 'System', 'message': content}\n",
    "    return {'date_time': None, 'author': None, 'message': message}\n",
    "\n",
    "\n"
   ]
  },
  {
   "cell_type": "code",
   "execution_count": 43,
   "id": "9e99d5ba-25fb-49e1-952f-806420bb73e5",
   "metadata": {},
   "outputs": [
    {
     "data": {
      "text/plain": [
       "(831, 3)"
      ]
     },
     "execution_count": 43,
     "metadata": {},
     "output_type": "execute_result"
    }
   ],
   "source": [
    "# Parse the chat\n",
    "distinct_messages = parse_messages(file_path)\n",
    "\n",
    "# Format messages and collect them in a list\n",
    "formatted_messages = [format_message(msg) for msg in distinct_messages]\n",
    "\n",
    "# Create a DataFrame\n",
    "df = pd.DataFrame(formatted_messages, columns=['date_time', 'author', 'message'])\n",
    "\n",
    "# Display the DataFrame\n",
    "df.shape"
   ]
  },
  {
   "cell_type": "code",
   "execution_count": 44,
   "id": "88877b54-4d77-45ff-a72f-21a84bf84f9a",
   "metadata": {},
   "outputs": [
    {
     "data": {
      "text/plain": [
       "(0, 3)"
      ]
     },
     "execution_count": 44,
     "metadata": {},
     "output_type": "execute_result"
    }
   ],
   "source": [
    "filtered_df = df[df['message'].str.contains('Aaj ki|आज की संख्या', case=False, na=False)]\n",
    "# Permanently changes the pandas settings\n",
    "pd.set_option('display.max_rows', None)\n",
    "pd.set_option('display.max_columns', None)\n",
    "pd.set_option('display.width', None)\n",
    "# pd.set_option('display.max_colwidth', -1)\n",
    "filtered_df.shape"
   ]
  },
  {
   "cell_type": "code",
   "execution_count": 45,
   "id": "2e01bebe-5f84-47e2-a70b-0343b8a64282",
   "metadata": {},
   "outputs": [
    {
     "ename": "SyntaxError",
     "evalue": "incomplete input (1084964814.py, line 1)",
     "output_type": "error",
     "traceback": [
      "\u001b[1;36m  Cell \u001b[1;32mIn[45], line 1\u001b[1;36m\u001b[0m\n\u001b[1;33m    print(df[df['date_time'].str.contains('2024-06-27 19:53', case=False, na=False)]['message']\u001b[0m\n\u001b[1;37m                                                                                               ^\u001b[0m\n\u001b[1;31mSyntaxError\u001b[0m\u001b[1;31m:\u001b[0m incomplete input\n"
     ]
    }
   ],
   "source": [
    " print(df[df['date_time'].str.contains('2024-06-27 19:53', case=False, na=False)]['message'])"
   ]
  },
  {
   "cell_type": "code",
   "execution_count": null,
   "id": "bc5ce393-2bce-48b1-a22f-cefbbc188304",
   "metadata": {},
   "outputs": [],
   "source": [
    "# Function to extract counts\n",
    "def extract_counts(message):\n",
    "    counts = {\n",
    "        'shishu': 0,\n",
    "        'bal': 0,\n",
    "        'tarun': 0,\n",
    "        'abhayagat': 0,\n",
    "        'total': 0\n",
    "    }\n",
    "    patterns = {\n",
    "        'shishu': r'शिशु\\s*[-\\s]*\\s*(\\d+)|Shishu\\s*[-\\s]*\\s*(\\d+)',\n",
    "        'bal': r'बाल\\s*[-\\s]*\\s*(\\d+)|Bal\\s*[-\\s]*\\s*(\\d+)',\n",
    "        'tarun': r'तरुण\\s*[-\\s]*\\s*(\\d+)|Tarun\\s*[-\\s]*\\s*(\\d+)',\n",
    "        'abhayagat': r'अभ्यागत\\s*[-\\s]*\\s*(\\d+)|Abhyagat\\s*[-\\s]*\\s*(\\d+)',\n",
    "        'total': r'कुल\\s*[-\\s]*\\s*(\\d+)|Total\\s*[-\\s]*\\s*(\\d+)'\n",
    "    }\n",
    "    for key, pattern in patterns.items():\n",
    "        matches = re.findall(pattern, message)\n",
    "        for match in matches:\n",
    "            counts[key] += int(match[0] or match[1])\n",
    "    return counts\n",
    "\n",
    "# Apply the function to the 'message' column\n",
    "filtered_df['counts'] = filtered_df['message'].apply(extract_counts)\n",
    "\n",
    "# Expand the counts dictionary into separate columns\n",
    "counts_df = filtered_df['counts'].apply(pd.Series)\n",
    "counts_df.shape\n",
    "# # Merge the counts_df with the filtered_df\n",
    "# result_df = filtered_df[['date_time']].join(counts_df)\n",
    "\n",
    "# print(result_df)\n"
   ]
  },
  {
   "cell_type": "code",
   "execution_count": null,
   "id": "33c42239-80b0-47fa-90e3-317d166497e0",
   "metadata": {},
   "outputs": [],
   "source": [
    "counts_df['total'].value_counts().sort_values"
   ]
  },
  {
   "cell_type": "code",
   "execution_count": null,
   "id": "bb885443-f84f-47e0-afb2-8b4c191927b3",
   "metadata": {},
   "outputs": [],
   "source": [
    "counts_df[counts_df['total']==0].shape\n"
   ]
  },
  {
   "cell_type": "code",
   "execution_count": null,
   "id": "5faa577d-5f8d-4644-b81e-3ddc27aaafc4",
   "metadata": {},
   "outputs": [],
   "source": [
    "# Assuming you have already executed the previous code and have 'filtered_df' and 'counts_df' available\n",
    "\n",
    "# Filter counts_df for rows where 'total' is 0\n",
    "zero_total_counts = counts_df[counts_df['total'] == 0]\n",
    "\n",
    "# Get indices of these rows\n",
    "zero_total_indices = zero_total_counts.index\n",
    "\n",
    "# Filter filtered_df based on these indices\n",
    "zero_total_filtered_df = filtered_df.iloc[zero_total_indices]\n",
    "\n",
    "print(zero_total_filtered_df)\n"
   ]
  },
  {
   "cell_type": "code",
   "execution_count": null,
   "id": "876d0092-d719-4e18-9ae6-ae2b76407769",
   "metadata": {},
   "outputs": [],
   "source": [
    "final = pd.DataFrame()\n",
    "final = pd.concat([filtered_df, counts_df], axis=1, join=\"inner\")\n",
    "final"
   ]
  },
  {
   "cell_type": "code",
   "execution_count": null,
   "id": "3b76e637-ad65-454b-afec-38c23c27df74",
   "metadata": {},
   "outputs": [],
   "source": [
    "final.columns\n"
   ]
  },
  {
   "cell_type": "code",
   "execution_count": null,
   "id": "3283e756-7489-40d8-b6c8-c7224a420e47",
   "metadata": {},
   "outputs": [],
   "source": []
  }
 ],
 "metadata": {
  "kernelspec": {
   "display_name": "Python 3 (ipykernel)",
   "language": "python",
   "name": "python3"
  },
  "language_info": {
   "codemirror_mode": {
    "name": "ipython",
    "version": 3
   },
   "file_extension": ".py",
   "mimetype": "text/x-python",
   "name": "python",
   "nbconvert_exporter": "python",
   "pygments_lexer": "ipython3",
   "version": "3.11.4"
  }
 },
 "nbformat": 4,
 "nbformat_minor": 5
}
